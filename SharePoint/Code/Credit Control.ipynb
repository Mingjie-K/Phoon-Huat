{
 "cells": [
  {
   "cell_type": "code",
   "execution_count": null,
   "metadata": {
    "ExecuteTime": {
     "end_time": "2021-05-06T01:22:05.887991Z",
     "start_time": "2021-05-06T01:22:05.041911Z"
    }
   },
   "outputs": [],
   "source": [
    "import time\n",
    "import os\n",
    "import pyodbc\n",
    "from shareplum import Site\n",
    "from shareplum import Office365\n",
    "import pandas as pd\n",
    "import numpy as np\n",
    "from datetime import datetime, timedelta\n",
    "from dateutil.relativedelta import relativedelta\n",
    "from shareplum.site import Version\n",
    "user = os.getenv('USERPROFILE')\n",
    "pd.set_option('max_columns',None)"
   ]
  },
  {
   "cell_type": "code",
   "execution_count": null,
   "metadata": {
    "ExecuteTime": {
     "end_time": "2021-04-26T01:56:55.110985Z",
     "start_time": "2021-04-26T01:56:55.094964Z"
    }
   },
   "outputs": [],
   "source": [
    "# def split(a, n):\n",
    "#     k, m = divmod(len(a), n)\n",
    "#     return (a[i * k + min(i, m):(i + 1) * k + min(i + 1, m)] for i in range(n))"
   ]
  },
  {
   "cell_type": "markdown",
   "metadata": {},
   "source": [
    "**Setting Path**"
   ]
  },
  {
   "cell_type": "code",
   "execution_count": null,
   "metadata": {
    "ExecuteTime": {
     "end_time": "2021-05-06T01:22:11.206225Z",
     "start_time": "2021-05-06T01:22:11.193222Z"
    },
    "code_folding": []
   },
   "outputs": [],
   "source": [
    "pwd_path = os.path.join(user,\n",
    "                        'OneDrive - PHOON HUAT PTE LTD\\Documents\\Password')\n",
    "cc_path = os.path.join(user, 'PHOON HUAT PTE LTD\\Finance - Sales SAP Export\\workfile\\Yuhui',\n",
    "                       r'210203 Credit control approval route')\n",
    "log_path = os.path.join(user, 'PHOON HUAT PTE LTD\\Finance - Sales SAP Export\\workfile\\Yuhui',\n",
    "                       r'210203 Credit control approval route\\Update Log')"
   ]
  },
  {
   "cell_type": "code",
   "execution_count": null,
   "metadata": {
    "ExecuteTime": {
     "end_time": "2021-05-06T01:22:14.238781Z",
     "start_time": "2021-05-06T01:22:12.242316Z"
    }
   },
   "outputs": [],
   "source": [
    "# Database Details\n",
    "os.chdir(pwd_path)\n",
    "database = pd.read_csv('database_pwd.txt', index_col='Source')\n",
    "\n",
    "# Microsoft SQL Server Connection\n",
    "sql_str = database.loc['sql']['con_str']\n",
    "sql_conn = pyodbc.connect(sql_str)\n",
    "print('Connected to Microsoft SQL Server')\n",
    "\n",
    "# Office user and pwd\n",
    "office = pd.read_csv('office.txt')\n",
    "office_uid = office['username'].item()\n",
    "office_pwd = office['password'].item()\n",
    "\n",
    "authcookie = Office365('https://phoonhuatsg.sharepoint.com',\n",
    "                       username=office_uid, password=office_pwd).GetCookies()\n",
    "site = Site('https://phoonhuatsg.sharepoint.com/sites/Intranet/Sales',\n",
    "            authcookie=authcookie)\n",
    "print('Connected to Sharepoint')"
   ]
  },
  {
   "cell_type": "markdown",
   "metadata": {},
   "source": [
    "# Read Backup"
   ]
  },
  {
   "cell_type": "code",
   "execution_count": null,
   "metadata": {
    "ExecuteTime": {
     "end_time": "2021-05-06T01:22:17.013230Z",
     "start_time": "2021-05-06T01:22:16.945213Z"
    }
   },
   "outputs": [],
   "source": [
    "os.chdir(cc_path)\n",
    "cc_back_df = pd.read_csv('cc_backup.csv', dtype={'CUSTNO': str, 'CUSTNAME': str, 'CREDIT_TERM': str,\n",
    "                                                 'CREDITLIMIT': str, 'PAYDEX_LM': str, 'PAYDEX': str,\n",
    "                                                 'LM SALES': str, 'LM-1 SALES': str, 'LM-2 SALES': str,\n",
    "                                                 'LM-3 SALES': str, 'LM-4 SALES': str, 'LM-5 SALES': str,\n",
    "                                                 'LM AR': str, 'LM-1 AR': str, 'LM-2 AR': str, 'LM-3 AR': str,\n",
    "                                                 'LM-4 AR': str, 'LM-5 AR': str, '>6 AR': str, '>12 AR': str,\n",
    "                                                 'group': str, 'G1': str, 'G2': str, 'UEN': str, 'ALL': str})\n",
    "print(cc_back_df.shape)"
   ]
  },
  {
   "cell_type": "markdown",
   "metadata": {},
   "source": [
    "# Get data from database"
   ]
  },
  {
   "cell_type": "code",
   "execution_count": null,
   "metadata": {
    "ExecuteTime": {
     "end_time": "2021-05-06T01:22:20.575397Z",
     "start_time": "2021-05-06T01:22:20.569387Z"
    }
   },
   "outputs": [],
   "source": [
    "# Initialize required dates\n",
    "today = datetime.today()\n",
    "one_month = today - relativedelta(months=1)\n",
    "two_month = today - relativedelta(months=2)\n",
    "three_month = today - relativedelta(months=3)\n",
    "four_month = today - relativedelta(months=4)\n",
    "five_month = today - relativedelta(months=5)\n",
    "six_month = today - relativedelta(months=6)\n",
    "one_year_ago = today - relativedelta(years=1)\n",
    "\n",
    "# Sales date\n",
    "today_str = today.strftime('%Y%m%d')\n",
    "six_months_str = six_month.strftime('%Y%m%d')\n",
    "\n",
    "# AR POSTINGDATE MONTH\n",
    "lm_ar = one_month.strftime('%Y%m')\n",
    "lm_2_ar = two_month.strftime('%Y%m')\n",
    "lm_3_ar = three_month.strftime('%Y%m')\n",
    "lm_4_ar = four_month.strftime('%Y%m')\n",
    "lm_5_ar = five_month.strftime('%Y%m')\n",
    "lm_6_ar = six_month.strftime('%Y%m')\n",
    "lm_12_ar = one_year_ago.strftime('%Y%m')"
   ]
  },
  {
   "cell_type": "code",
   "execution_count": null,
   "metadata": {
    "ExecuteTime": {
     "end_time": "2021-05-06T01:22:21.292414Z",
     "start_time": "2021-05-06T01:22:21.288423Z"
    }
   },
   "outputs": [],
   "source": [
    "kna1_query = \"\"\"\n",
    "SELECT kna1.CUSTNO, kna1.CUSTNAME, kna1.TERM AS CREDIT_TERM, kna1.CREDITLIMIT, \n",
    "kna1.PAYDEX_LM, kna1.PAYDEX, kna1.UEN, sp.[TO] AS EMAIL\n",
    "FROM \n",
    "test.dbo.kna1\n",
    "LEFT JOIN\n",
    "test.dbo.spemail AS sp\n",
    "ON kna1.SALESPERSON = sp.SP\n",
    "\"\"\"\n",
    "\n",
    "sales_query = \"\"\"\n",
    "SELECT 'LM SALES' AS MONTH, sales.CUSTNO, SUM(sales.NETVALUE) AS L6M_SALES\n",
    "FROM\n",
    "(SELECT * FROM test.dbo.sales_cost UNION ALL \n",
    "SELECT * FROM test.dbo.sales_cost_current UNION ALL \n",
    "SELECT * FROM test.dbo.sales_cost_lm) sales\n",
    "WHERE SUBSTRING(sales.BILLDATE,1,6) = {}\n",
    "GROUP BY sales.CUSTNO\n",
    "UNION ALL\n",
    "SELECT 'LM-1 SALES' AS MONTH, sales.CUSTNO, SUM(sales.NETVALUE) AS L6M_SALES\n",
    "FROM\n",
    "(SELECT * FROM test.dbo.sales_cost UNION ALL \n",
    "SELECT * FROM test.dbo.sales_cost_current UNION ALL \n",
    "SELECT * FROM test.dbo.sales_cost_lm) sales\n",
    "WHERE SUBSTRING(sales.BILLDATE,1,6) = {}\n",
    "GROUP BY sales.CUSTNO\n",
    "UNION ALL\n",
    "SELECT 'LM-2 SALES' AS MONTH, sales.CUSTNO, SUM(sales.NETVALUE) AS L6M_SALES\n",
    "FROM\n",
    "(SELECT * FROM test.dbo.sales_cost UNION ALL \n",
    "SELECT * FROM test.dbo.sales_cost_current UNION ALL \n",
    "SELECT * FROM test.dbo.sales_cost_lm) sales\n",
    "WHERE SUBSTRING(sales.BILLDATE,1,6) = {}\n",
    "GROUP BY sales.CUSTNO\n",
    "UNION ALL\n",
    "SELECT 'LM-3 SALES' AS MONTH, sales.CUSTNO, SUM(sales.NETVALUE) AS L6M_SALES\n",
    "FROM\n",
    "(SELECT * FROM test.dbo.sales_cost UNION ALL \n",
    "SELECT * FROM test.dbo.sales_cost_current UNION ALL \n",
    "SELECT * FROM test.dbo.sales_cost_lm) sales\n",
    "WHERE SUBSTRING(sales.BILLDATE,1,6) = {}\n",
    "GROUP BY sales.CUSTNO\n",
    "UNION ALL\n",
    "SELECT 'LM-4 SALES' AS MONTH, sales.CUSTNO, SUM(sales.NETVALUE) AS L6M_SALES\n",
    "FROM\n",
    "(SELECT * FROM test.dbo.sales_cost UNION ALL \n",
    "SELECT * FROM test.dbo.sales_cost_current UNION ALL \n",
    "SELECT * FROM test.dbo.sales_cost_lm) sales\n",
    "WHERE SUBSTRING(sales.BILLDATE,1,6) = {}\n",
    "GROUP BY sales.CUSTNO\n",
    "UNION ALL\n",
    "SELECT 'LM-5 SALES' AS MONTH, sales.CUSTNO, SUM(sales.NETVALUE) AS L6M_SALES\n",
    "FROM\n",
    "(SELECT * FROM test.dbo.sales_cost UNION ALL \n",
    "SELECT * FROM test.dbo.sales_cost_current UNION ALL \n",
    "SELECT * FROM test.dbo.sales_cost_lm) sales\n",
    "WHERE SUBSTRING(sales.BILLDATE,1,6) = {}\n",
    "GROUP BY sales.CUSTNO\n",
    "\"\"\".format(lm_ar, lm_2_ar, lm_3_ar, lm_4_ar, lm_5_ar, lm_6_ar)\n",
    "\n",
    "ar_query = \"\"\"\n",
    "SELECT 'LM AR' AS MONTH, CUSTNO, SUM(AMOUNT) AS AR\n",
    "FROM test.dbo.aging\n",
    "WHERE SUBSTRING(POSTINGDATE,1,6) = {}\n",
    "GROUP BY SUBSTRING(POSTINGDATE,1,6), CUSTNO\n",
    "UNION ALL\n",
    "SELECT 'LM-1 AR' AS MONTH, CUSTNO, SUM(AMOUNT) AS AR\n",
    "FROM test.dbo.aging\n",
    "WHERE SUBSTRING(POSTINGDATE,1,6) = {}\n",
    "GROUP BY SUBSTRING(POSTINGDATE,1,6), CUSTNO\n",
    "UNION ALL\n",
    "SELECT 'LM-2 AR' AS MONTH, CUSTNO, SUM(AMOUNT) AS AR\n",
    "FROM test.dbo.aging\n",
    "WHERE SUBSTRING(POSTINGDATE,1,6) = {}\n",
    "GROUP BY SUBSTRING(POSTINGDATE,1,6), CUSTNO\n",
    "UNION ALL\n",
    "SELECT 'LM-3 AR' AS MONTH, CUSTNO, SUM(AMOUNT) AS AR\n",
    "FROM test.dbo.aging\n",
    "WHERE SUBSTRING(POSTINGDATE,1,6) = {}\n",
    "GROUP BY SUBSTRING(POSTINGDATE,1,6), CUSTNO\n",
    "UNION ALL\n",
    "SELECT 'LM-4 AR' AS MONTH, CUSTNO, SUM(AMOUNT) AS AR\n",
    "FROM test.dbo.aging\n",
    "WHERE SUBSTRING(POSTINGDATE,1,6) = {}\n",
    "GROUP BY SUBSTRING(POSTINGDATE,1,6), CUSTNO\n",
    "UNION ALL\n",
    "SELECT 'LM-5 AR' AS MONTH, CUSTNO, SUM(AMOUNT) AS AR\n",
    "FROM test.dbo.aging\n",
    "WHERE SUBSTRING(POSTINGDATE,1,6) = {}\n",
    "GROUP BY SUBSTRING(POSTINGDATE,1,6), CUSTNO\n",
    "UNION ALL\n",
    "SELECT '>6 AR' AS MONTH, CUSTNO, SUM(AMOUNT) AS AR\n",
    "FROM test.dbo.aging\n",
    "WHERE SUBSTRING(POSTINGDATE,1,6) >= {} AND SUBSTRING(POSTINGDATE,1,6) < {}\n",
    "GROUP BY SUBSTRING(POSTINGDATE,1,6), CUSTNO\n",
    "UNION ALL\n",
    "SELECT '>12 AR' AS MONTH, CUSTNO, SUM(AMOUNT) AS AR\n",
    "FROM test.dbo.aging\n",
    "WHERE SUBSTRING(POSTINGDATE,1,6) < {}\n",
    "GROUP BY SUBSTRING(POSTINGDATE,1,6), CUSTNO\n",
    "\"\"\".format(lm_ar, lm_2_ar, lm_3_ar, lm_4_ar, lm_5_ar,\n",
    "           lm_6_ar, lm_12_ar, lm_6_ar, lm_12_ar)\n",
    "\n",
    "cust_g_query = \"\"\"\n",
    "SELECT CUSTNO,[group],G1,G2\n",
    "FROM test.dbo.CUSTGROUP\n",
    "\"\"\""
   ]
  },
  {
   "cell_type": "code",
   "execution_count": null,
   "metadata": {
    "ExecuteTime": {
     "end_time": "2021-05-06T01:22:31.527688Z",
     "start_time": "2021-05-06T01:22:21.896547Z"
    }
   },
   "outputs": [],
   "source": [
    "kna1_data = pd.read_sql(kna1_query, sql_conn)\n",
    "sales_data = pd.read_sql(sales_query, sql_conn)\n",
    "ar_data = pd.read_sql(ar_query, sql_conn)\n",
    "cust_data = pd.read_sql(cust_g_query, sql_conn)"
   ]
  },
  {
   "cell_type": "code",
   "execution_count": null,
   "metadata": {
    "ExecuteTime": {
     "end_time": "2021-05-06T01:22:31.669858Z",
     "start_time": "2021-05-06T01:22:31.609713Z"
    }
   },
   "outputs": [],
   "source": [
    "sales_pivot = sales_data.pivot_table(\n",
    "    index='CUSTNO', columns='MONTH', values='L6M_SALES', fill_value=0).reset_index()\n",
    "sales_pivot.head()"
   ]
  },
  {
   "cell_type": "code",
   "execution_count": null,
   "metadata": {
    "ExecuteTime": {
     "end_time": "2021-05-06T01:22:31.793669Z",
     "start_time": "2021-05-06T01:22:31.765654Z"
    }
   },
   "outputs": [],
   "source": [
    "kna1_sales = kna1_data.merge(sales_pivot, on='CUSTNO', how='left')\n",
    "print(kna1_sales.shape)\n",
    "kna1_sales.head()"
   ]
  },
  {
   "cell_type": "code",
   "execution_count": null,
   "metadata": {
    "ExecuteTime": {
     "end_time": "2021-05-06T01:22:31.920707Z",
     "start_time": "2021-05-06T01:22:31.890687Z"
    }
   },
   "outputs": [],
   "source": [
    "kna1_sales_cust = kna1_sales.merge(cust_data, on='CUSTNO', how='left')\n",
    "kna1_sales_cust.head()"
   ]
  },
  {
   "cell_type": "code",
   "execution_count": null,
   "metadata": {
    "ExecuteTime": {
     "end_time": "2021-05-06T01:22:32.062766Z",
     "start_time": "2021-05-06T01:22:32.033749Z"
    }
   },
   "outputs": [],
   "source": [
    "ar_pivot = ar_data.pivot_table(\n",
    "    index='CUSTNO', columns='MONTH', values='AR').reset_index()\n",
    "ar_pivot.head()"
   ]
  },
  {
   "cell_type": "code",
   "execution_count": null,
   "metadata": {
    "ExecuteTime": {
     "end_time": "2021-05-06T01:22:44.642065Z",
     "start_time": "2021-05-06T01:22:44.480035Z"
    }
   },
   "outputs": [],
   "source": [
    "df = kna1_sales_cust.merge(ar_pivot, on='CUSTNO', how='left')\n",
    "# Fill Missing Values\n",
    "df = df.fillna('')\n",
    "df = df[['CUSTNO', 'CUSTNAME', 'CREDIT_TERM', 'CREDITLIMIT', 'PAYDEX_LM', 'PAYDEX',\n",
    "         'LM SALES', 'LM-1 SALES', 'LM-2 SALES', 'LM-3 SALES', 'LM-4 SALES', 'LM-5 SALES',\n",
    "         'LM AR', 'LM-1 AR', 'LM-2 AR', 'LM-3 AR', 'LM-4 AR', 'LM-5 AR', '>6 AR', '>12 AR',\n",
    "         'group', 'G1', 'G2', 'UEN', 'EMAIL']]\n",
    "# lower case email\n",
    "df['EMAIL'] = df['EMAIL'].str.lower()\n",
    "print(df.shape)\n",
    "df.tail()"
   ]
  },
  {
   "cell_type": "code",
   "execution_count": null,
   "metadata": {
    "ExecuteTime": {
     "end_time": "2021-05-06T01:22:45.330187Z",
     "start_time": "2021-05-06T01:22:45.103408Z"
    }
   },
   "outputs": [],
   "source": [
    "cols = ['CUSTNO', 'CUSTNAME', 'CREDIT_TERM', 'CREDITLIMIT', 'PAYDEX_LM', 'PAYDEX',\n",
    "        'LM SALES', 'LM-1 SALES', 'LM-2 SALES', 'LM-3 SALES', 'LM-4 SALES', 'LM-5 SALES',\n",
    "        'LM AR', 'LM-1 AR', 'LM-2 AR', 'LM-3 AR', 'LM-4 AR', 'LM-5 AR', '>6 AR', '>12 AR',\n",
    "        'group', 'G1', 'G2', 'UEN']\n",
    "df['ALL'] = df[cols].apply(\n",
    "    lambda row: '_'.join(row.values.astype(str)), axis=1)"
   ]
  },
  {
   "cell_type": "markdown",
   "metadata": {},
   "source": [
    "# Compare backup with database"
   ]
  },
  {
   "cell_type": "markdown",
   "metadata": {},
   "source": [
    "## Get new customers and update sharepoint"
   ]
  },
  {
   "cell_type": "markdown",
   "metadata": {},
   "source": [
    "### Credit Control Finance"
   ]
  },
  {
   "cell_type": "code",
   "execution_count": null,
   "metadata": {
    "ExecuteTime": {
     "end_time": "2021-05-06T01:22:48.400610Z",
     "start_time": "2021-05-06T01:22:48.368617Z"
    }
   },
   "outputs": [],
   "source": [
    "new_customers_df = df[~df['CUSTNO'].isin(cc_back_df['CUSTNO'])]\n",
    "new_customers_df.shape"
   ]
  },
  {
   "cell_type": "code",
   "execution_count": null,
   "metadata": {
    "ExecuteTime": {
     "end_time": "2021-05-06T01:22:53.052257Z",
     "start_time": "2021-05-06T01:22:53.032251Z"
    }
   },
   "outputs": [],
   "source": [
    "new_cust_upload = new_customers_df[['CUSTNO', 'CUSTNAME', 'CREDIT_TERM', 'CREDITLIMIT', 'PAYDEX_LM',\n",
    "                                    'PAYDEX', 'LM SALES', 'LM-1 SALES', 'LM-2 SALES',\n",
    "                                    'LM-3 SALES', 'LM-4 SALES', 'LM-5 SALES', 'LM AR',\n",
    "                                    'LM-1 AR', 'LM-2 AR', 'LM-3 AR', 'LM-4 AR', 'LM-5 AR',\n",
    "                                    '>6 AR', '>12 AR', 'group', 'G1', 'G2', 'UEN']]\n",
    "new_cust_upload_dict = new_cust_upload.to_dict(orient='records')"
   ]
  },
  {
   "cell_type": "code",
   "execution_count": null,
   "metadata": {
    "ExecuteTime": {
     "end_time": "2021-05-06T01:22:55.790021Z",
     "start_time": "2021-05-06T01:22:54.105278Z"
    },
    "scrolled": true
   },
   "outputs": [],
   "source": [
    "# Select Credit Control Finance List and upload\n",
    "cc_f_list = site.List('Credit Control Finance')\n",
    "cc_f_list.UpdateListItems(data=new_cust_upload_dict, kind='New')\n",
    "print('New customers upload success')"
   ]
  },
  {
   "cell_type": "markdown",
   "metadata": {},
   "source": [
    "### Credit Control (Salesperson)"
   ]
  },
  {
   "cell_type": "code",
   "execution_count": null,
   "metadata": {
    "ExecuteTime": {
     "end_time": "2021-05-06T01:23:02.936322Z",
     "start_time": "2021-05-06T01:23:02.920328Z"
    }
   },
   "outputs": [],
   "source": [
    "new_cust_upload = new_customers_df[[\n",
    "    'CUSTNO', 'CUSTNAME', 'CREDIT_TERM', 'CREDITLIMIT','EMAIL']]\n",
    "new_cust_upload_dict = new_cust_upload.to_dict(orient='records')"
   ]
  },
  {
   "cell_type": "code",
   "execution_count": null,
   "metadata": {
    "ExecuteTime": {
     "end_time": "2021-05-06T01:23:05.082219Z",
     "start_time": "2021-05-06T01:23:03.464263Z"
    }
   },
   "outputs": [],
   "source": [
    "# Select Credit Control List and upload\n",
    "cc_list = site.List('Credit Control')\n",
    "cc_list.UpdateListItems(data=new_cust_upload_dict, kind='New')\n",
    "print('New customers upload success')"
   ]
  },
  {
   "cell_type": "markdown",
   "metadata": {},
   "source": [
    "## Update data that have changes"
   ]
  },
  {
   "cell_type": "markdown",
   "metadata": {},
   "source": [
    "### Credit Control Finance"
   ]
  },
  {
   "cell_type": "code",
   "execution_count": null,
   "metadata": {
    "ExecuteTime": {
     "end_time": "2021-05-06T01:23:08.830065Z",
     "start_time": "2021-05-06T01:23:08.816069Z"
    }
   },
   "outputs": [],
   "source": [
    "df_update = df[~df['ALL'].isin(cc_back_df['ALL'])]\n",
    "df_update = df_update[~df_update['CUSTNO'].isin(new_customers_df['CUSTNO'])]"
   ]
  },
  {
   "cell_type": "code",
   "execution_count": null,
   "metadata": {
    "ExecuteTime": {
     "end_time": "2021-05-06T01:23:09.456139Z",
     "start_time": "2021-05-06T01:23:09.433138Z"
    }
   },
   "outputs": [],
   "source": [
    "print(df_update.shape)\n",
    "df_update.head()"
   ]
  },
  {
   "cell_type": "code",
   "execution_count": null,
   "metadata": {
    "ExecuteTime": {
     "end_time": "2021-05-06T01:23:14.214320Z",
     "start_time": "2021-05-06T01:23:14.200325Z"
    }
   },
   "outputs": [],
   "source": [
    "customer = df_update['CUSTNO'].to_list()"
   ]
  },
  {
   "cell_type": "code",
   "execution_count": null,
   "metadata": {
    "ExecuteTime": {
     "end_time": "2021-05-06T01:41:40.571615Z",
     "start_time": "2021-05-06T01:23:14.889299Z"
    }
   },
   "outputs": [],
   "source": [
    "id_finance_list = []\n",
    "for cust in customer:\n",
    "    query = {'Where': [('Eq', 'CUSTNO', cust)]}\n",
    "    getid = cc_f_list.GetListItems(query=query, fields=['ID'])[0]['ID']\n",
    "    id_finance_list.append(getid)\n",
    "    time.sleep(0.1)"
   ]
  },
  {
   "cell_type": "code",
   "execution_count": null,
   "metadata": {
    "ExecuteTime": {
     "end_time": "2021-05-06T01:46:55.905707Z",
     "start_time": "2021-05-06T01:46:55.896709Z"
    }
   },
   "outputs": [],
   "source": [
    "df_update['ID'] = id_finance_list"
   ]
  },
  {
   "cell_type": "markdown",
   "metadata": {},
   "source": [
    "**Rearrange columns for Credit Control Finance**"
   ]
  },
  {
   "cell_type": "code",
   "execution_count": null,
   "metadata": {
    "ExecuteTime": {
     "end_time": "2021-05-06T01:46:56.757331Z",
     "start_time": "2021-05-06T01:46:56.733313Z"
    }
   },
   "outputs": [],
   "source": [
    "df_update_finance = df_update[['ID', 'CUSTNO', 'CUSTNAME', 'CREDIT_TERM', 'CREDITLIMIT', 'PAYDEX_LM',\n",
    "                               'PAYDEX', 'LM SALES', 'LM-1 SALES', 'LM-2 SALES',\n",
    "                               'LM-3 SALES', 'LM-4 SALES', 'LM-5 SALES', 'LM AR',\n",
    "                               'LM-1 AR', 'LM-2 AR', 'LM-3 AR', 'LM-4 AR', 'LM-5 AR',\n",
    "                               '>6 AR', '>12 AR', 'group', 'G1', 'G2', 'UEN']]"
   ]
  },
  {
   "cell_type": "code",
   "execution_count": null,
   "metadata": {
    "ExecuteTime": {
     "end_time": "2021-05-06T01:46:57.378732Z",
     "start_time": "2021-05-06T01:46:57.365724Z"
    }
   },
   "outputs": [],
   "source": [
    "df_split_finance = np.array_split(df_update_finance, 10)"
   ]
  },
  {
   "cell_type": "code",
   "execution_count": null,
   "metadata": {
    "ExecuteTime": {
     "end_time": "2021-05-06T01:51:05.176313Z",
     "start_time": "2021-05-06T01:46:57.885566Z"
    }
   },
   "outputs": [],
   "source": [
    "for i in range(10):\n",
    "    finance_records = df_split_finance[i].to_dict(orient='records')\n",
    "    cc_f_list.UpdateListItems(data=finance_records, kind='Update')\n",
    "    print(i)\n",
    "    time.sleep(5)"
   ]
  },
  {
   "cell_type": "markdown",
   "metadata": {},
   "source": [
    "### Credit Control (Salesperson)"
   ]
  },
  {
   "cell_type": "markdown",
   "metadata": {},
   "source": [
    "**New**"
   ]
  },
  {
   "cell_type": "code",
   "execution_count": null,
   "metadata": {
    "ExecuteTime": {
     "end_time": "2021-05-06T01:52:23.930279Z",
     "start_time": "2021-05-06T01:52:23.913260Z"
    }
   },
   "outputs": [],
   "source": [
    "df_cc_sales = df[['CUSTNO', 'CUSTNAME', 'CREDIT_TERM', 'CREDITLIMIT','EMAIL']].copy()"
   ]
  },
  {
   "cell_type": "code",
   "execution_count": null,
   "metadata": {
    "ExecuteTime": {
     "end_time": "2021-05-06T01:52:24.400406Z",
     "start_time": "2021-05-06T01:52:24.283352Z"
    }
   },
   "outputs": [],
   "source": [
    "df_cc_cols = ['CUSTNO', 'CUSTNAME', 'CREDIT_TERM', 'CREDITLIMIT','EMAIL']\n",
    "df_cc_sales['ALL'] = df_cc_sales[df_cc_cols].apply(\n",
    "    lambda row: '_'.join(row.values.astype(str)), axis=1)\n",
    "df_cc_sales.head()"
   ]
  },
  {
   "cell_type": "markdown",
   "metadata": {},
   "source": [
    "**Old**"
   ]
  },
  {
   "cell_type": "code",
   "execution_count": null,
   "metadata": {
    "ExecuteTime": {
     "end_time": "2021-05-06T01:52:27.380460Z",
     "start_time": "2021-05-06T01:52:27.352469Z"
    }
   },
   "outputs": [],
   "source": [
    "cc_back_df = cc_back_df.fillna('')\n",
    "df_cc_back = cc_back_df[['CUSTNO', 'CUSTNAME',\n",
    "                         'CREDIT_TERM', 'CREDITLIMIT','EMAIL']].copy()"
   ]
  },
  {
   "cell_type": "code",
   "execution_count": null,
   "metadata": {
    "ExecuteTime": {
     "end_time": "2021-05-06T01:52:27.865577Z",
     "start_time": "2021-05-06T01:52:27.753551Z"
    }
   },
   "outputs": [],
   "source": [
    "df_cc_b_cols = ['CUSTNO', 'CUSTNAME', 'CREDIT_TERM', 'CREDITLIMIT','EMAIL']\n",
    "df_cc_back['ALL'] = df_cc_back[df_cc_b_cols].apply(\n",
    "    lambda row: '_'.join(row.values.astype(str)), axis=1)\n",
    "df_cc_back.head()"
   ]
  },
  {
   "cell_type": "code",
   "execution_count": null,
   "metadata": {
    "ExecuteTime": {
     "end_time": "2021-05-06T01:52:30.185097Z",
     "start_time": "2021-05-06T01:52:30.162091Z"
    }
   },
   "outputs": [],
   "source": [
    "df_sales_update = df_cc_sales[~df_cc_sales['ALL'].isin(df_cc_back['ALL'])]\n",
    "df_sales_update = df_sales_update[~df_sales_update['CUSTNO'].isin(\n",
    "    new_customers_df['CUSTNO'])]"
   ]
  },
  {
   "cell_type": "markdown",
   "metadata": {},
   "source": [
    "**UPDATE**"
   ]
  },
  {
   "cell_type": "code",
   "execution_count": null,
   "metadata": {
    "ExecuteTime": {
     "end_time": "2021-05-06T01:52:32.950224Z",
     "start_time": "2021-05-06T01:52:32.944225Z"
    }
   },
   "outputs": [],
   "source": [
    "cc_cust = df_sales_update['CUSTNO'].to_list()"
   ]
  },
  {
   "cell_type": "code",
   "execution_count": null,
   "metadata": {
    "ExecuteTime": {
     "end_time": "2021-05-06T01:54:00.271032Z",
     "start_time": "2021-05-06T01:52:33.496526Z"
    }
   },
   "outputs": [],
   "source": [
    "id_cc_list = []\n",
    "for cust in cc_cust:\n",
    "    query = {'Where': [('Eq', 'CUSTNO', cust)]}\n",
    "    getid = cc_list.GetListItems(query=query, fields=['ID'])[0]['ID']\n",
    "    id_cc_list.append(getid)\n",
    "    time.sleep(0.1)"
   ]
  },
  {
   "cell_type": "code",
   "execution_count": null,
   "metadata": {
    "ExecuteTime": {
     "end_time": "2021-05-06T01:57:25.070000Z",
     "start_time": "2021-05-06T01:57:25.050979Z"
    }
   },
   "outputs": [],
   "source": [
    "df_sales_update['ID'] = id_cc_list\n",
    "df_sales_update.head()"
   ]
  },
  {
   "cell_type": "code",
   "execution_count": null,
   "metadata": {
    "ExecuteTime": {
     "end_time": "2021-05-06T01:57:27.627656Z",
     "start_time": "2021-05-06T01:57:27.617648Z"
    }
   },
   "outputs": [],
   "source": [
    "df_update_cc = df_sales_update[['ID', 'CUSTNO',\n",
    "                                'CUSTNAME', 'CREDIT_TERM', 'CREDITLIMIT','EMAIL']]"
   ]
  },
  {
   "cell_type": "code",
   "execution_count": null,
   "metadata": {
    "ExecuteTime": {
     "end_time": "2021-05-06T01:57:41.111491Z",
     "start_time": "2021-05-06T01:57:28.171090Z"
    }
   },
   "outputs": [],
   "source": [
    "cc_records = df_update_cc.to_dict(orient='records')\n",
    "cc_list.UpdateListItems(data=cc_records, kind='Update')"
   ]
  },
  {
   "cell_type": "code",
   "execution_count": null,
   "metadata": {
    "ExecuteTime": {
     "end_time": "2021-05-06T01:57:46.456273Z",
     "start_time": "2021-05-06T01:57:46.443270Z"
    }
   },
   "outputs": [],
   "source": [
    "os.chdir(cc_path)"
   ]
  },
  {
   "cell_type": "markdown",
   "metadata": {},
   "source": [
    "# Pump out as backup"
   ]
  },
  {
   "cell_type": "code",
   "execution_count": null,
   "metadata": {
    "ExecuteTime": {
     "end_time": "2021-05-06T01:57:47.760676Z",
     "start_time": "2021-05-06T01:57:47.612086Z"
    }
   },
   "outputs": [],
   "source": [
    "df.to_csv('cc_backup.csv', index=False)\n",
    "df_update_cc.to_csv('cc_updated_' + today_str + '.csv', index=False)\n",
    "df_update_finance.to_csv('finance_updated_' + today_str + '.csv', index=False)\n",
    "new_customers_df.to_csv('new_cust_' + today_str + '.csv', index=False)"
   ]
  },
  {
   "cell_type": "markdown",
   "metadata": {},
   "source": [
    "# Add log"
   ]
  },
  {
   "cell_type": "code",
   "execution_count": null,
   "metadata": {
    "ExecuteTime": {
     "end_time": "2021-05-06T01:57:50.778763Z",
     "start_time": "2021-05-06T01:57:50.755768Z"
    }
   },
   "outputs": [],
   "source": [
    "os.chdir(log_path)\n",
    "log_file = open('update_log.txt',mode ='a')\n",
    "log_file.write(datetime.now().ctime() + '\\n')\n",
    "log_file.close()\n",
    "print(datetime.now())"
   ]
  },
  {
   "cell_type": "markdown",
   "metadata": {},
   "source": [
    "# SharePoint"
   ]
  },
  {
   "cell_type": "markdown",
   "metadata": {},
   "source": [
    "**Adding List**"
   ]
  },
  {
   "cell_type": "code",
   "execution_count": null,
   "metadata": {
    "ExecuteTime": {
     "end_time": "2021-04-23T09:11:54.064751Z",
     "start_time": "2021-04-23T09:11:53.622445Z"
    }
   },
   "outputs": [],
   "source": [
    "# site.AddList('Credit Control', description='Credit Control for SA/SP',\n",
    "#              template_id='Custom List')\n",
    "\n",
    "# site.AddList('Credit Control Finance', description='Credit Control for SA/SP',\n",
    "#              template_id='Custom List')\n",
    "\n",
    "# site.AddList('CC Update', description='Credit Control for SA/SP',\n",
    "#              template_id='Custom List')"
   ]
  },
  {
   "cell_type": "markdown",
   "metadata": {},
   "source": [
    "**First Upload**<br>Salesperson"
   ]
  },
  {
   "cell_type": "code",
   "execution_count": null,
   "metadata": {
    "ExecuteTime": {
     "end_time": "2021-04-23T09:27:31.025582Z",
     "start_time": "2021-04-23T09:22:28.633659Z"
    }
   },
   "outputs": [],
   "source": [
    "# first_cc_upload = df[[\n",
    "#     'CUSTNO', 'CUSTNAME', 'CREDIT_TERM', 'CREDITLIMIT','EMAIL']]\n",
    "# first_cc_upload_dict = first_cc_upload.to_dict(orient='records')\n",
    "# cc_list = site.List('Credit Control')\n",
    "# cc_list.UpdateListItems(data=first_cc_upload_dict, kind='New')"
   ]
  },
  {
   "cell_type": "markdown",
   "metadata": {
    "ExecuteTime": {
     "end_time": "2021-04-16T03:16:27.122043Z",
     "start_time": "2021-04-16T03:16:27.112903Z"
    }
   },
   "source": [
    "Finance"
   ]
  },
  {
   "cell_type": "code",
   "execution_count": null,
   "metadata": {
    "ExecuteTime": {
     "end_time": "2021-04-16T03:26:25.174102Z",
     "start_time": "2021-04-16T03:21:20.610061Z"
    }
   },
   "outputs": [],
   "source": [
    "# cc_f_list = site.List('Credit Control Finance')\n",
    "# first_cc_f_upload_dict = df.to_dict(orient='records')\n",
    "# cc_f_list.UpdateListItems(data=first_cc_f_upload_dict, kind='New')"
   ]
  },
  {
   "cell_type": "markdown",
   "metadata": {},
   "source": [
    "**Huge Query Won't Work**"
   ]
  },
  {
   "cell_type": "code",
   "execution_count": null,
   "metadata": {
    "ExecuteTime": {
     "end_time": "2021-02-09T01:57:02.742434Z",
     "start_time": "2021-02-09T01:57:02.731153Z"
    }
   },
   "outputs": [],
   "source": [
    "# cc_list.GetListItems()"
   ]
  },
  {
   "cell_type": "markdown",
   "metadata": {},
   "source": [
    "**Deleting List (MUST GET ID for Each query of INDEX)**"
   ]
  },
  {
   "cell_type": "code",
   "execution_count": null,
   "metadata": {
    "ExecuteTime": {
     "end_time": "2021-02-16T02:22:50.764826Z",
     "start_time": "2021-02-16T02:22:50.633316Z"
    }
   },
   "outputs": [],
   "source": [
    "# for index in df['INDEX'].unique():\n",
    "\n",
    "#     query = {'Where': [('Eq', 'INDEX', str(index))]}\n",
    "\n",
    "#     cc_item = cc_list.GetListItems(query=query)\n",
    "#     cc_item_id = [item['ID'] for item in cc_item]\n",
    "\n",
    "#     if len(cc_item) != 0:\n",
    "#         cc_list.UpdateListItems(cc_item_id, kind='Delete')\n",
    "#     time.sleep(120)"
   ]
  }
 ],
 "metadata": {
  "hide_input": false,
  "kernelspec": {
   "display_name": "project",
   "language": "python",
   "name": "project"
  },
  "language_info": {
   "codemirror_mode": {
    "name": "ipython",
    "version": 3
   },
   "file_extension": ".py",
   "mimetype": "text/x-python",
   "name": "python",
   "nbconvert_exporter": "python",
   "pygments_lexer": "ipython3",
   "version": "3.8.10"
  },
  "toc": {
   "base_numbering": 1,
   "nav_menu": {},
   "number_sections": true,
   "sideBar": true,
   "skip_h1_title": false,
   "title_cell": "Table of Contents",
   "title_sidebar": "Contents",
   "toc_cell": false,
   "toc_position": {
    "height": "calc(100% - 180px)",
    "left": "10px",
    "top": "150px",
    "width": "231.8px"
   },
   "toc_section_display": true,
   "toc_window_display": true
  },
  "varInspector": {
   "cols": {
    "lenName": 16,
    "lenType": 16,
    "lenVar": 40
   },
   "kernels_config": {
    "python": {
     "delete_cmd_postfix": "",
     "delete_cmd_prefix": "del ",
     "library": "var_list.py",
     "varRefreshCmd": "print(var_dic_list())"
    },
    "r": {
     "delete_cmd_postfix": ") ",
     "delete_cmd_prefix": "rm(",
     "library": "var_list.r",
     "varRefreshCmd": "cat(var_dic_list()) "
    }
   },
   "types_to_exclude": [
    "module",
    "function",
    "builtin_function_or_method",
    "instance",
    "_Feature"
   ],
   "window_display": false
  }
 },
 "nbformat": 4,
 "nbformat_minor": 4
}
